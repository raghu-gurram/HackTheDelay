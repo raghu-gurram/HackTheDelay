{
 "cells": [
  {
   "cell_type": "code",
   "execution_count": 38,
   "id": "d9ab13c7",
   "metadata": {},
   "outputs": [
    {
     "name": "stdout",
     "output_type": "stream",
     "text": [
      "Index(['SNo', 'Location', 'Primary', 'BoardingPoint', 'Time', 'Day',\n",
      "       'Latitude', 'Longitude', 'PointType'],\n",
      "      dtype='object')\n",
      "Index(['SNo', 'Location', 'Primary', 'BoardingPoint', 'Time', 'Day',\n",
      "       'Latitude', 'Longitude', 'PointType'],\n",
      "      dtype='object')\n",
      "Index(['Date', 'Time Range', 'Distance Travelled (km)',\n",
      "       'Total Distance Travelled (km)', 'Nearest Hub', 'Address',\n",
      "       'Average Speed', 'Latitude', 'Longitude', 'Altitude', 'Map Link',\n",
      "       'Start Time', 'End Time', 'Timestamp', 'Speed', 'Hour', 'DayOfWeek',\n",
      "       'Is_Night', 'DistanceToNearestStop_m', 'TimeDiffToStop_min',\n",
      "       'IsStopped', 'StopGroup', 'StoppedDuration'],\n",
      "      dtype='object')\n"
     ]
    }
   ],
   "source": [
    "import pandas as pd\n",
    "\n",
    "# Load raw timetable data\n",
    "hyd_pune = pd.read_csv(\"timetable_hyd_pune.csv\")\n",
    "pune_hyd = pd.read_csv(\"timetable_pune_hyd.csv\")\n",
    "veh = pd.read_csv(\"vehicle_with_features.csv\")\n",
    "\n",
    "print(hyd_pune.columns)\n",
    "print(pune_hyd.columns)\n",
    "print(veh.columns)\n"
   ]
  }
 ],
 "metadata": {
  "kernelspec": {
   "display_name": "HTD",
   "language": "python",
   "name": "python3"
  },
  "language_info": {
   "codemirror_mode": {
    "name": "ipython",
    "version": 3
   },
   "file_extension": ".py",
   "mimetype": "text/x-python",
   "name": "python",
   "nbconvert_exporter": "python",
   "pygments_lexer": "ipython3",
   "version": "3.13.2"
  }
 },
 "nbformat": 4,
 "nbformat_minor": 5
}
