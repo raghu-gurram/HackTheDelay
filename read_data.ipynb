{
 "cells": [
  {
   "cell_type": "code",
   "execution_count": 1,
   "id": "07163704",
   "metadata": {},
   "outputs": [
    {
     "ename": "ModuleNotFoundError",
     "evalue": "No module named 'pandas'",
     "output_type": "error",
     "traceback": [
      "\u001b[31m---------------------------------------------------------------------------\u001b[39m",
      "\u001b[31mModuleNotFoundError\u001b[39m                       Traceback (most recent call last)",
      "\u001b[36mCell\u001b[39m\u001b[36m \u001b[39m\u001b[32mIn[1]\u001b[39m\u001b[32m, line 1\u001b[39m\n\u001b[32m----> \u001b[39m\u001b[32m1\u001b[39m \u001b[38;5;28;01mimport\u001b[39;00m\u001b[38;5;250m \u001b[39m\u001b[34;01mpandas\u001b[39;00m\u001b[38;5;250m \u001b[39m\u001b[38;5;28;01mas\u001b[39;00m\u001b[38;5;250m \u001b[39m\u001b[34;01mpd\u001b[39;00m\n\u001b[32m      3\u001b[39m \u001b[38;5;66;03m# Manually parsed data from PDF\u001b[39;00m\n\u001b[32m      4\u001b[39m hyderabad_pune_data = {\n\u001b[32m      5\u001b[39m     \u001b[33m\"\u001b[39m\u001b[33mStop_No\u001b[39m\u001b[33m\"\u001b[39m: \u001b[38;5;28mlist\u001b[39m(\u001b[38;5;28mrange\u001b[39m(\u001b[32m1\u001b[39m, \u001b[32m28\u001b[39m)),\n\u001b[32m      6\u001b[39m     \u001b[33m\"\u001b[39m\u001b[33mLocation\u001b[39m\u001b[33m\"\u001b[39m: [\n\u001b[32m   (...)\u001b[39m\u001b[32m     60\u001b[39m     ]\n\u001b[32m     61\u001b[39m }\n",
      "\u001b[31mModuleNotFoundError\u001b[39m: No module named 'pandas'"
     ]
    }
   ],
   "source": [
    "import pandas as pd\n",
    "\n",
    "# Manually parsed data from PDF\n",
    "hyderabad_pune_data = {\n",
    "    \"Stop_No\": list(range(1, 28)),\n",
    "    \"Location\": [\n",
    "        \"Hyderabad\", \"Hyderabad\", \"Hyderabad\", \"Hyderabad\", \"Hyderabad\", \"Hyderabad\", \"Hyderabad\", \"Hyderabad\", \"Hyderabad\",\n",
    "        \"Hyderabad\", \"Hyderabad\", \"Hyderabad\", \"Sangareddy\", \"Zaheerabad\", \"Solapur\", \"Solapur\", \"Pune\", \"Pune\", \"Pune\",\n",
    "        \"Pune\", \"Pune\", \"Pune\", \"Pune\", \"Pune\", \"Pune\", \"Pune\", \"Pune\"\n",
    "    ],\n",
    "    \"BoardingPoint\": [\n",
    "        \"Near Pillar No 1200, The Cent Hotel\",\n",
    "        \"Infront of Bajaj Electronics, Pillar No. 1039\",\n",
    "        \"Metro Station, Infront of Pillar No. 942\",\n",
    "        \"Infront of Airtel Stores, Pillar No. A-818\",\n",
    "        \"Metro Pillar No. 738, KPHB Bus Stop\",\n",
    "        \"Infront of Bitcha Reddy Sweets\",\n",
    "        \"Infront of Bommarillu Restaurant\",\n",
    "        \"Infront of South India Shopping Mall\",\n",
    "        \"IntrCity Boarding Zone, Vijetha Super Market\",\n",
    "        \"Opp Asian Jyothi Cinemas\",\n",
    "        \"Infront of Bus Stand\",\n",
    "        \"Infront of Bus Stand\",\n",
    "        \"Sangareddy Chowrasta, Chiritha Hospital\",\n",
    "        \"Infront of Mahindra Gate\",\n",
    "        \"Market Yard Chowk, Bhavani Peth\",\n",
    "        \"Market Yard Chowk, Bhavani Peth\",\n",
    "        \"Opp Bigwan Police Chowki\",\n",
    "        \"Hotel Delhi Darbar (Bio Break)\",\n",
    "        \"Infront of Vaibhav Theatre Bus Stop\",\n",
    "        \"Infront of Vaibhav Theatre Bus Stop\",\n",
    "        \"Fatima Nagar Bus Stop\",\n",
    "        \"Jehangir Hospital Bus Stop\",\n",
    "        \"Neeta Travels, Near TVS Showroom\",\n",
    "        \"Ishwar Travels, Near Kasarwadi Station\",\n",
    "        \"Below Hinjewadi Flyover\",\n",
    "        \"Aditya Birla Hospital\",\n",
    "        \"Bhakti-Shakti Chowk\"\n",
    "    ],\n",
    "    \"Scheduled_Time\": [\n",
    "        \"22:30\", \"22:50\", \"22:55\", \"23:05\", \"23:10\", \"23:15\", \"23:25\", \"23:30\", \"23:35\", \"23:40\",\n",
    "        \"23:50\", \"23:50\", \"00:20\", \"01:20\", \"05:05\", \"05:05\", \"07:50\", \"08:50\", \"09:50\", \"09:50\",\n",
    "        \"10:05\", \"10:25\", \"10:35\", \"10:50\", \"11:10\", \"11:20\", \"11:35\"\n",
    "    ],\n",
    "    \"Day\": [\"Day 1\"] * 12 + [\"Day 2\"] * 15,\n",
    "    \"Latitude\": [\n",
    "        17.4064, 17.4393, 17.4575, 17.4827, 17.4944, 17.4981, 17.4965, 17.4945, 17.4946,\n",
    "        17.5024, 17.5294, 17.5294, 17.5879, 17.691, 17.6828, 17.6828, 18.305, 18.4827,\n",
    "        18.4994, 18.4994, 18.5064, 18.5317, 18.5401, 18.6083, 18.5925, 18.6251, 18.6647\n",
    "    ],\n",
    "    \"Longitude\": [\n",
    "        78.4628, 78.4426, 78.4333, 78.4137, 78.3993, 78.3915, 78.3633, 78.3467, 78.322,\n",
    "        78.3114, 78.2639, 78.2639, 78.0836, 77.5788, 75.9278, 75.9278, 74.7517, 74.2373,\n",
    "        73.9479, 73.9479, 73.902, 73.8763, 73.851, 73.8215, 73.7571, 73.7755, 73.7728\n",
    "    ],\n",
    "    \"PointType\": [\"boarding_point\"] * 12 + [\n",
    "        \"tracking_point\", \"boarding_point\", \"boarding_point\", \"dropping_point\", \"dropping_point\", \"bio_break\",\n",
    "        \"dropping_point\", \"tracking_point\", \"dropping_point\", \"dropping_point\", \"dropping_point\", \"dropping_point\",\n",
    "        \"dropping_point\", \"dropping_point\"\n",
    "    ]\n",
    "}\n",
    "\n",
    "# Create DataFrame\n",
    "hyderabad_pune_df = pd.DataFrame(hyderabad_pune_data)\n",
    "\n",
    "# Preview\n",
    "print(hyderabad_pune_df.head())\n"
   ]
  }
 ],
 "metadata": {
  "kernelspec": {
   "display_name": "HTD",
   "language": "python",
   "name": "python3"
  },
  "language_info": {
   "codemirror_mode": {
    "name": "ipython",
    "version": 3
   },
   "file_extension": ".py",
   "mimetype": "text/x-python",
   "name": "python",
   "nbconvert_exporter": "python",
   "pygments_lexer": "ipython3",
   "version": "3.13.2"
  }
 },
 "nbformat": 4,
 "nbformat_minor": 5
}
