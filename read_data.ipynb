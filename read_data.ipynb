{
 "cells": [
  {
   "cell_type": "code",
   "execution_count": 32,
   "id": "d9ab13c7",
   "metadata": {},
   "outputs": [
    {
     "name": "stderr",
     "output_type": "stream",
     "text": [
      "C:\\Users\\HP\\AppData\\Local\\Temp\\ipykernel_24892\\4153668393.py:13: UserWarning: Could not infer format, so each element will be parsed individually, falling back to `dateutil`. To ensure parsing is consistent and as-expected, please specify a format.\n",
      "  hyd_pune['Time'] = pd.to_datetime(hyd_pune['Time'], errors='coerce').dt.time\n",
      "C:\\Users\\HP\\AppData\\Local\\Temp\\ipykernel_24892\\4153668393.py:14: UserWarning: Could not infer format, so each element will be parsed individually, falling back to `dateutil`. To ensure parsing is consistent and as-expected, please specify a format.\n",
      "  pune_hyd['Time'] = pd.to_datetime(pune_hyd['Time'], errors='coerce').dt.time\n"
     ]
    }
   ],
   "source": [
    "import pandas as pd\n",
    "\n",
    "# Load raw timetable data\n",
    "hyd_pune = pd.read_csv(\"timetable_hyd_pune.csv\")\n",
    "pune_hyd = pd.read_csv(\"timetable_pune_hyd.csv\")\n",
    "\n",
    "# Assign proper column names\n",
    "columns = ['SNo', 'Location', 'Primary', 'BoardingPoint', 'Time', 'Day', 'Latitude', 'Longitude', 'PointType']\n",
    "hyd_pune.columns = columns\n",
    "pune_hyd.columns = columns\n",
    "\n",
    "# Convert 'Time' to proper time format\n",
    "hyd_pune['Time'] = pd.to_datetime(hyd_pune['Time'], errors='coerce').dt.time\n",
    "pune_hyd['Time'] = pd.to_datetime(pune_hyd['Time'], errors='coerce').dt.time\n",
    "\n",
    "# Drop rows with missing time or GPS data\n",
    "hyd_pune.dropna(subset=['Time', 'Latitude', 'Longitude'], inplace=True)\n",
    "pune_hyd.dropna(subset=['Time', 'Latitude', 'Longitude'], inplace=True)\n",
    "\n",
    "# Save back to original files (overwrite)\n",
    "hyd_pune.to_csv(\"timetable_hyd_pune.csv\", index=False)\n",
    "pune_hyd.to_csv(\"timetable_pune_hyd.csv\", index=False)\n"
   ]
  },
  {
   "cell_type": "code",
   "execution_count": 35,
   "id": "eefff14d",
   "metadata": {},
   "outputs": [
    {
     "name": "stderr",
     "output_type": "stream",
     "text": [
      "C:\\Users\\HP\\AppData\\Local\\Temp\\ipykernel_24892\\1022236198.py:13: UserWarning: Could not infer format, so each element will be parsed individually, falling back to `dateutil`. To ensure parsing is consistent and as-expected, please specify a format.\n",
      "  hyd_pune['Time'] = pd.to_datetime(hyd_pune['Time'], errors='coerce').dt.time\n"
     ]
    }
   ],
   "source": [
    "import pandas as pd\n",
    "from datetime import datetime\n",
    "from geopy.distance import geodesic\n",
    "\n",
    "# Load vehicle data and timetable\n",
    "vehicle_df = pd.read_csv(\"vehicle.csv\")\n",
    "hyd_pune = pd.read_csv(\"timetable_hyd_pune.csv\")\n",
    "\n",
    "# Parse Timestamp\n",
    "vehicle_df['Timestamp'] = pd.to_datetime(vehicle_df['Timestamp'])\n",
    "\n",
    "# Ensure time column is datetime.time type\n",
    "hyd_pune['Time'] = pd.to_datetime(hyd_pune['Time'], errors='coerce').dt.time\n",
    "\n",
    "# Function to calculate nearest stop distance and time diff\n",
    "def get_nearest_stop_info(lat, lon, timestamp):\n",
    "    min_dist = float('inf')\n",
    "    closest_time_diff = None\n",
    "    for _, row in hyd_pune.iterrows():\n",
    "        stop_loc = (row['Latitude'], row['Longitude'])\n",
    "        current_loc = (lat, lon)\n",
    "        dist = geodesic(current_loc, stop_loc).meters\n",
    "        if dist < min_dist:\n",
    "            min_dist = dist\n",
    "            try:\n",
    "                stop_time = datetime.combine(timestamp.date(), row['Time'])  # This is fixed\n",
    "                closest_time_diff = (timestamp - stop_time).total_seconds() / 60  # in minutes\n",
    "            except:\n",
    "                closest_time_diff = None\n",
    "    return min_dist, closest_time_diff\n",
    "\n",
    "# Apply the function row-wise\n",
    "vehicle_df[['DistanceToNearestStop_m', 'TimeDiffToStop_min']] = vehicle_df.apply(\n",
    "    lambda row: pd.Series(get_nearest_stop_info(row['Latitude'], row['Longitude'], pd.to_datetime(row['Timestamp']))),\n",
    "    axis=1\n",
    ")\n",
    "\n",
    "# Calculate stopped duration based on Speed = 0\n",
    "vehicle_df['IsStopped'] = vehicle_df['Speed'] == 0\n",
    "vehicle_df['StopGroup'] = (vehicle_df['IsStopped'] != vehicle_df['IsStopped'].shift()).cumsum()\n",
    "vehicle_df['StoppedDuration'] = vehicle_df.groupby('StopGroup')['Timestamp'].transform(\n",
    "    lambda x: (x.max() - x.min()).total_seconds() / 60\n",
    ")\n",
    "vehicle_df['StoppedDuration'] = vehicle_df['StoppedDuration'].where(vehicle_df['IsStopped'], 0)\n",
    "\n",
    "# Save with added features\n",
    "vehicle_df.to_csv(\"vehicle_with_features.csv\", index=False)\n"
   ]
  }
 ],
 "metadata": {
  "kernelspec": {
   "display_name": "HTD",
   "language": "python",
   "name": "python3"
  },
  "language_info": {
   "codemirror_mode": {
    "name": "ipython",
    "version": 3
   },
   "file_extension": ".py",
   "mimetype": "text/x-python",
   "name": "python",
   "nbconvert_exporter": "python",
   "pygments_lexer": "ipython3",
   "version": "3.13.2"
  }
 },
 "nbformat": 4,
 "nbformat_minor": 5
}
