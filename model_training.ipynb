{
 "cells": [
  {
   "cell_type": "code",
   "execution_count": 1,
   "id": "4496939b",
   "metadata": {},
   "outputs": [
    {
     "name": "stderr",
     "output_type": "stream",
     "text": [
      "2025/07/24 17:49:09 INFO mlflow.tracking.fluent: Experiment with name 'Delay_Classification' does not exist. Creating a new experiment.\n",
      "2025/07/24 17:49:11 WARNING mlflow.models.model: `artifact_path` is deprecated. Please use `name` instead.\n",
      "Successfully registered model 'RandomForest_delay_model'.\n",
      "Created version '1' of model 'RandomForest_delay_model'.\n"
     ]
    },
    {
     "name": "stdout",
     "output_type": "stream",
     "text": [
      "📊 RandomForest\n",
      "   Accuracy:  0.8811\n",
      "   Precision: 0.8747\n",
      "   Recall:    0.8551\n",
      "   F1 Score:  0.8648\n",
      "----------------------------------------\n"
     ]
    },
    {
     "name": "stderr",
     "output_type": "stream",
     "text": [
      "2025/07/24 17:49:19 WARNING mlflow.models.model: `artifact_path` is deprecated. Please use `name` instead.\n",
      "Successfully registered model 'LogisticRegression_delay_model'.\n",
      "Created version '1' of model 'LogisticRegression_delay_model'.\n"
     ]
    },
    {
     "name": "stdout",
     "output_type": "stream",
     "text": [
      "📊 LogisticRegression\n",
      "   Accuracy:  0.6713\n",
      "   Precision: 0.6696\n",
      "   Recall:    0.5146\n",
      "   F1 Score:  0.5820\n",
      "----------------------------------------\n"
     ]
    },
    {
     "name": "stderr",
     "output_type": "stream",
     "text": [
      "2025/07/24 17:49:25 WARNING mlflow.models.model: `artifact_path` is deprecated. Please use `name` instead.\n",
      "Successfully registered model 'DecisionTree_delay_model'.\n",
      "Created version '1' of model 'DecisionTree_delay_model'.\n"
     ]
    },
    {
     "name": "stdout",
     "output_type": "stream",
     "text": [
      "📊 DecisionTree\n",
      "   Accuracy:  0.8571\n",
      "   Precision: 0.8440\n",
      "   Recall:    0.8326\n",
      "   F1 Score:  0.8382\n",
      "----------------------------------------\n"
     ]
    },
    {
     "name": "stderr",
     "output_type": "stream",
     "text": [
      "2025/07/24 17:49:34 WARNING mlflow.models.model: `artifact_path` is deprecated. Please use `name` instead.\n",
      "Successfully registered model 'GradientBoosting_delay_model'.\n",
      "Created version '1' of model 'GradientBoosting_delay_model'.\n"
     ]
    },
    {
     "name": "stdout",
     "output_type": "stream",
     "text": [
      "📊 GradientBoosting\n",
      "   Accuracy:  0.8457\n",
      "   Precision: 0.8701\n",
      "   Recall:    0.7674\n",
      "   F1 Score:  0.8155\n",
      "----------------------------------------\n"
     ]
    },
    {
     "name": "stderr",
     "output_type": "stream",
     "text": [
      "2025/07/24 17:49:41 WARNING mlflow.models.model: `artifact_path` is deprecated. Please use `name` instead.\n",
      "Successfully registered model 'NaiveBayes_delay_model'.\n",
      "Created version '1' of model 'NaiveBayes_delay_model'.\n",
      "2025/07/24 17:49:47 WARNING mlflow.models.model: `artifact_path` is deprecated. Please use `name` instead.\n"
     ]
    },
    {
     "name": "stdout",
     "output_type": "stream",
     "text": [
      "📊 NaiveBayes\n",
      "   Accuracy:  0.7003\n",
      "   Precision: 0.7339\n",
      "   Recall:    0.5112\n",
      "   F1 Score:  0.6026\n",
      "----------------------------------------\n"
     ]
    },
    {
     "name": "stderr",
     "output_type": "stream",
     "text": [
      "Successfully registered model 'KNN_delay_model'.\n",
      "Created version '1' of model 'KNN_delay_model'.\n"
     ]
    },
    {
     "name": "stdout",
     "output_type": "stream",
     "text": [
      "📊 KNN\n",
      "   Accuracy:  0.6169\n",
      "   Precision: 0.5808\n",
      "   Recall:    0.4966\n",
      "   F1 Score:  0.5354\n",
      "----------------------------------------\n"
     ]
    },
    {
     "name": "stderr",
     "output_type": "stream",
     "text": [
      "2025/07/24 17:50:10 WARNING mlflow.models.model: `artifact_path` is deprecated. Please use `name` instead.\n"
     ]
    },
    {
     "name": "stdout",
     "output_type": "stream",
     "text": [
      "📊 SVM\n",
      "   Accuracy:  0.5624\n",
      "   Precision: 0.6000\n",
      "   Recall:    0.0472\n",
      "   F1 Score:  0.0875\n",
      "----------------------------------------\n",
      "\n",
      "✅ Model Comparison Summary\n",
      "RandomForest       F1: 0.8648  | Acc: 0.8811  | Prec: 0.8747  | Rec: 0.8551\n",
      "DecisionTree       F1: 0.8382  | Acc: 0.8571  | Prec: 0.8440  | Rec: 0.8326\n",
      "GradientBoosting   F1: 0.8155  | Acc: 0.8457  | Prec: 0.8701  | Rec: 0.7674\n",
      "NaiveBayes         F1: 0.6026  | Acc: 0.7003  | Prec: 0.7339  | Rec: 0.5112\n",
      "LogisticRegression F1: 0.5820  | Acc: 0.6713  | Prec: 0.6696  | Rec: 0.5146\n",
      "KNN                F1: 0.5354  | Acc: 0.6169  | Prec: 0.5808  | Rec: 0.4966\n",
      "SVM                F1: 0.0875  | Acc: 0.5624  | Prec: 0.6000  | Rec: 0.0472\n"
     ]
    },
    {
     "name": "stderr",
     "output_type": "stream",
     "text": [
      "Successfully registered model 'SVM_delay_model'.\n",
      "Created version '1' of model 'SVM_delay_model'.\n"
     ]
    }
   ],
   "source": [
    "import pandas as pd\n",
    "import mlflow\n",
    "import mlflow.sklearn\n",
    "from sklearn.model_selection import train_test_split\n",
    "from sklearn.metrics import accuracy_score, precision_score, recall_score, f1_score\n",
    "from sklearn.ensemble import RandomForestClassifier, GradientBoostingClassifier\n",
    "from sklearn.linear_model import LogisticRegression\n",
    "from sklearn.svm import SVC\n",
    "from sklearn.tree import DecisionTreeClassifier\n",
    "from sklearn.naive_bayes import GaussianNB\n",
    "from sklearn.neighbors import KNeighborsClassifier\n",
    "import warnings\n",
    "from mlflow.models.signature import infer_signature\n",
    "\n",
    "warnings.filterwarnings(\"ignore\")\n",
    "\n",
    "# Set experiment name (it'll create if not exist)\n",
    "mlflow.set_experiment(\"Delay_Classification\")\n",
    "\n",
    "# Load data\n",
    "df = pd.read_csv(\"vehicle_with_features.csv\")\n",
    "\n",
    "# Define target label\n",
    "df['is_delayed'] = df['TimeDiffToStop_min'] > 10  # Label: True if delay > 10 mins\n",
    "features = ['Speed', 'DistanceToNearestStop_m', 'StoppedDuration', 'Is_Night', 'Hour', 'DayOfWeek']\n",
    "X = df[features]\n",
    "y = df['is_delayed'].astype(int)\n",
    "\n",
    "# Train-test split\n",
    "X_train, X_test, y_train, y_test = train_test_split(X, y, test_size=0.2, random_state=42)\n",
    "\n",
    "# Define models to test\n",
    "models = {\n",
    "    \"RandomForest\": RandomForestClassifier(n_estimators=100),\n",
    "    \"LogisticRegression\": LogisticRegression(),\n",
    "    \"DecisionTree\": DecisionTreeClassifier(),\n",
    "    \"GradientBoosting\": GradientBoostingClassifier(),\n",
    "    \"NaiveBayes\": GaussianNB(),\n",
    "    \"KNN\": KNeighborsClassifier(),\n",
    "    \"SVM\": SVC(probability=True)\n",
    "}\n",
    "\n",
    "# Run experiments\n",
    "results = []\n",
    "\n",
    "for name, model in models.items():\n",
    "    with mlflow.start_run(run_name=name):\n",
    "        # Train\n",
    "        model.fit(X_train, y_train)\n",
    "        preds = model.predict(X_test)\n",
    "\n",
    "        # Metrics\n",
    "        acc = accuracy_score(y_test, preds)\n",
    "        prec = precision_score(y_test, preds)\n",
    "        rec = recall_score(y_test, preds)\n",
    "        f1 = f1_score(y_test, preds)\n",
    "\n",
    "        # Log metrics and params\n",
    "        mlflow.log_param(\"model\", name)\n",
    "        mlflow.log_metrics({\n",
    "            \"accuracy\": acc,\n",
    "            \"precision\": prec,\n",
    "            \"recall\": rec,\n",
    "            \"f1_score\": f1\n",
    "        })\n",
    "\n",
    "        # Log model with signature\n",
    "        signature = infer_signature(X_test, preds)\n",
    "        mlflow.sklearn.log_model(model, artifact_path=\"model\", signature=signature, registered_model_name=f\"{name}_delay_model\")\n",
    "\n",
    "        # Output\n",
    "        print(f\"📊 {name}\")\n",
    "        print(f\"   Accuracy:  {acc:.4f}\")\n",
    "        print(f\"   Precision: {prec:.4f}\")\n",
    "        print(f\"   Recall:    {rec:.4f}\")\n",
    "        print(f\"   F1 Score:  {f1:.4f}\")\n",
    "        print(\"-\" * 40)\n",
    "\n",
    "        results.append((name, acc, prec, rec, f1))\n",
    "\n",
    "# Summary\n",
    "print(\"\\n✅ Model Comparison Summary\")\n",
    "for name, acc, prec, rec, f1 in sorted(results, key=lambda x: x[4], reverse=True):\n",
    "    print(f\"{name:<18} F1: {f1:.4f}  | Acc: {acc:.4f}  | Prec: {prec:.4f}  | Rec: {rec:.4f}\")\n"
   ]
  }
 ],
 "metadata": {
  "kernelspec": {
   "display_name": "HTD",
   "language": "python",
   "name": "python3"
  },
  "language_info": {
   "codemirror_mode": {
    "name": "ipython",
    "version": 3
   },
   "file_extension": ".py",
   "mimetype": "text/x-python",
   "name": "python",
   "nbconvert_exporter": "python",
   "pygments_lexer": "ipython3",
   "version": "3.13.2"
  }
 },
 "nbformat": 4,
 "nbformat_minor": 5
}
